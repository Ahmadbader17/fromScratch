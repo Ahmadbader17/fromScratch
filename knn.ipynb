{
 "cells": [
  {
   "cell_type": "markdown",
   "metadata": {},
   "source": [
    "# K-Nearest Neighbors (KNN)\n",
    "\n",
    "### KNN Algorithm Overview\n",
    "\n",
    "KNN is a lazy learning algorithm used for classification and regression. It works by finding the K nearest neighbors of a data point in the feature space and making predictions based on their labels (for classification) or values (for regression).\n",
    "\n",
    "### Steps in KNN:\n",
    "\n",
    "1) Calculate Distance: Compute the distance between the query point and all other points in the dataset.\n",
    "\n",
    "2) Find Nearest Neighbors: Select the K points with the smallest distances.\n",
    "\n",
    "3) Make Prediction:\n",
    "\n",
    "       i) For classification: Use majority voting among the neighbors.\n",
    "\n",
    "       ii) For regression: Use the average value of the neighbors."
   ]
  },
  {
   "cell_type": "code",
   "execution_count": 1,
   "metadata": {},
   "outputs": [],
   "source": [
    "import numpy as np \n",
    "from collections import Counter"
   ]
  },
  {
   "cell_type": "code",
   "execution_count": 2,
   "metadata": {},
   "outputs": [],
   "source": [
    "# Step 1: Define a distance metric (Euclidean distance)\n",
    "def euclidean_distance(x1, x2):\n",
    "    return np.sqrt(np.sum(x1 -x2) ** 2)"
   ]
  },
  {
   "cell_type": "code",
   "execution_count": 6,
   "metadata": {},
   "outputs": [],
   "source": [
    "# Step 2: Implement the KNN algorithm \n",
    "\n",
    "class KNN:\n",
    "    def __init__(self, k=3):\n",
    "        self.k=k # number of neighbour \n",
    "\n",
    "    def fit(self, X_train, y_train):\n",
    "        # store the training data\n",
    "        self.X_train = X_train \n",
    "        self.y_train = y_train \n",
    "\n",
    "    def predict(self, X_test):\n",
    "        predictions = [self._predict(x) for x in X_test]\n",
    "        return np.array(predictions)\n",
    "\n",
    "    def _predict(self, x):\n",
    "        # Step 2a: compute distance between x and all examples in the training set\n",
    "        distances = [euclidean_distance(x, x_train) for x_train in self.X_train]\n",
    "\n",
    "        # Step 2b: Sort by distance and get the indices of the k nearest neighbours\n",
    "        k_indices = np.argsort(distances)[:self.k]\n",
    "\n",
    "        # Step 2c: Extract the labels of the k nearest neighbours \n",
    "        k_nearest_labels = [self.y_train[i] for i in k_indices]\n",
    "\n",
    "        # Step 2d: Majority voting for classification \n",
    "        most_common = Counter(k_nearest_labels).most_common(1)\n",
    "        return most_common[0][0] \n"
   ]
  },
  {
   "cell_type": "code",
   "execution_count": 7,
   "metadata": {},
   "outputs": [
    {
     "name": "stdout",
     "output_type": "stream",
     "text": [
      "Predicted class for [[5 5]]: [0]\n"
     ]
    }
   ],
   "source": [
    "# Step 3: Test the KNN implementation\n",
    "if __name__ == \"__main__\":\n",
    "    # Example dataset (features and labels)\n",
    "    X_train = np.array([[1, 2], [2, 3], [3, 4], [6, 7], [7, 8], [8, 9]])\n",
    "    y_train = np.array([0, 0, 0, 1, 1, 1])  # Binary classification\n",
    "\n",
    "    # Create a KNN classifier\n",
    "    knn = KNN(k=3)\n",
    "    knn.fit(X_train, y_train)\n",
    "\n",
    "    # New data point to classify\n",
    "    X_test = np.array([[5, 5]])\n",
    "    prediction = knn.predict(X_test)\n",
    "\n",
    "    print(f\"Predicted class for {X_test}: {prediction}\")"
   ]
  }
 ],
 "metadata": {
  "kernelspec": {
   "display_name": "fs",
   "language": "python",
   "name": "python3"
  },
  "language_info": {
   "codemirror_mode": {
    "name": "ipython",
    "version": 3
   },
   "file_extension": ".py",
   "mimetype": "text/x-python",
   "name": "python",
   "nbconvert_exporter": "python",
   "pygments_lexer": "ipython3",
   "version": "3.13.1"
  }
 },
 "nbformat": 4,
 "nbformat_minor": 2
}
