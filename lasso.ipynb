{
 "cells": [
  {
   "cell_type": "markdown",
   "metadata": {},
   "source": [
    "# Lasso Regression (L1):\n",
    "\n",
    "Lasso Regression (Least Absolute Shrinkage and Selection Operator) is a type of linear regression that includes a regularization term to prevent overfitting and to perform feature selection. The regularization term is the L1 norm of the coefficients, which encourages sparsity in the model. \n",
    "\n",
    "#### Loss = Sum of Squared Errors + λ∥w∥\n",
    "\n",
    "λ: A tuning parameter that controls the strength of regularization. Higher 𝜆 forces more coefficients to shrink to zero."
   ]
  },
  {
   "cell_type": "code",
   "execution_count": 1,
   "metadata": {},
   "outputs": [],
   "source": [
    "import numpy as np "
   ]
  },
  {
   "cell_type": "code",
   "execution_count": 2,
   "metadata": {},
   "outputs": [
    {
     "name": "stdout",
     "output_type": "stream",
     "text": [
      "Bias (b): 0.32041149493414667\n",
      "Weights (w): [0.05606725 0.37647874]\n",
      "Predictions: [1.56198221 2.42707418]\n"
     ]
    }
   ],
   "source": [
    "import numpy as np\n",
    "\n",
    "class LassoRegression:\n",
    "    def __init__(self, alpha=0.1, learning_rate=0.01, num_iterations=1000):\n",
    "        \"\"\"\n",
    "        Constructor for Lasso Regression.\n",
    "        :param alpha: Regularization parameter (lambda).\n",
    "        :param learning_rate: Learning rate for gradient descent.\n",
    "        :param num_iterations: Number of iterations for gradient descent.\n",
    "        \"\"\"\n",
    "        self.alpha = alpha\n",
    "        self.learning_rate = learning_rate\n",
    "        self.num_iterations = num_iterations\n",
    "        self.b = None  # Bias\n",
    "        self.w = None  # Weights\n",
    "\n",
    "    def fit(self, X, y):\n",
    "        \"\"\"\n",
    "        Fit the Lasso Regression model to the data.\n",
    "        :param X: Feature matrix (n_samples, n_features).\n",
    "        :param y: Target vector (n_samples,).\n",
    "        \"\"\"\n",
    "        n, p = X.shape\n",
    "        self.w = np.zeros(p)  # Initialize weights\n",
    "        self.b = 0            # Initialize bias\n",
    "\n",
    "        for _ in range(self.num_iterations):\n",
    "            # Compute predictions\n",
    "            y_pred = self.b + np.dot(X, self.w)\n",
    "\n",
    "            # Compute gradients\n",
    "            grad_b = -np.mean(y - y_pred)\n",
    "            grad_w = -np.dot(X.T, (y - y_pred)) / n + self.alpha * np.sign(self.w)\n",
    "\n",
    "            # Update bias and weights\n",
    "            self.b -= self.learning_rate * grad_b\n",
    "            self.w -= self.learning_rate * grad_w\n",
    "\n",
    "            # Apply soft-thresholding to weights\n",
    "            # Soft-thresholding provides a way to handle this non-differentiability during optimization\n",
    "            self.w = np.sign(self.w) * np.maximum(0, np.abs(self.w) - self.learning_rate * self.alpha)\n",
    "\n",
    "    def predict(self, X):\n",
    "        \"\"\"\n",
    "        Predict target values for new data.\n",
    "        :param X: Feature matrix (n_samples, n_features).\n",
    "        :return: Predicted target values (n_samples,).\n",
    "        \"\"\"\n",
    "        if self.b is None or self.w is None:\n",
    "            raise ValueError(\"Model has not been trained yet. Call `fit` first.\")\n",
    "        return self.b + np.dot(X, self.w)\n",
    "\n",
    "    def get_weights(self):\n",
    "        \"\"\"\n",
    "        Get the weights (coefficients) of the model.\n",
    "        :return: Weights (n_features,).\n",
    "        \"\"\"\n",
    "        return self.w\n",
    "\n",
    "    def get_bias(self):\n",
    "        \"\"\"\n",
    "        Get the bias (intercept) of the model.\n",
    "        :return: Bias (scalar).\n",
    "        \"\"\"\n",
    "        return self.b\n",
    "\n",
    "\n",
    "# Example usage\n",
    "if __name__ == \"__main__\":\n",
    "    # Sample data\n",
    "    X = np.array([[1, 2], [3, 4], [5, 6]])\n",
    "    y = np.array([1, 2, 3])\n",
    "\n",
    "    # Create and train the Lasso Regression model\n",
    "    lasso = LassoRegression(alpha=0.1, learning_rate=0.01, num_iterations=1000)\n",
    "    lasso.fit(X, y)\n",
    "\n",
    "    # Print results\n",
    "    print(\"Bias (b):\", lasso.get_bias())\n",
    "    print(\"Weights (w):\", lasso.get_weights())\n",
    "\n",
    "    # Make predictions\n",
    "    X_new = np.array([[2, 3], [4, 5]])\n",
    "    predictions = lasso.predict(X_new)\n",
    "    print(\"Predictions:\", predictions)"
   ]
  }
 ],
 "metadata": {
  "kernelspec": {
   "display_name": "fs",
   "language": "python",
   "name": "python3"
  },
  "language_info": {
   "codemirror_mode": {
    "name": "ipython",
    "version": 3
   },
   "file_extension": ".py",
   "mimetype": "text/x-python",
   "name": "python",
   "nbconvert_exporter": "python",
   "pygments_lexer": "ipython3",
   "version": "3.13.1"
  }
 },
 "nbformat": 4,
 "nbformat_minor": 2
}
