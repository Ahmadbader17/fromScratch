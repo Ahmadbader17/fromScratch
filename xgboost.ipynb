{
 "cells": [
  {
   "cell_type": "markdown",
   "metadata": {},
   "source": [
    "# XGBoost:\n",
    "\n",
    "### Phase 1: Foundational Concepts\n",
    "\n",
    "#### 1.1 What is Boosting?\n",
    "Boosting is a sequential ensemble learning technique that combines multiple weak learners (often decision trees) to create a strong learner. The key idea is:\n",
    "\n",
    "        1. Train a weak model.\n",
    "        2. Identify where it made mistakes.\n",
    "        3. Train a new weak model that focuses on fixing those mistakes.\n",
    "        4. Repeat this process to improve accuracy.\n",
    "\n"
   ]
  },
  {
   "cell_type": "markdown",
   "metadata": {},
   "source": [
    "#### 1.2 Why is Boosting Powerful?\n",
    "\n",
    "Unlike other ensemble methods (like bagging or random forests), boosting:\n",
    "\n",
    "    ✔ Reduces bias (makes models more flexible).\n",
    "    ✔ Can handle both regression and classification tasks.\n",
    "    ✔ Is highly effective in tabular data problems (e.g., Kaggle competitions)."
   ]
  },
  {
   "cell_type": "markdown",
   "metadata": {},
   "source": [
    "#### 1.3 How Does Boosting Work? (Intuitive Step-by-Step)\n",
    "\n",
    "Let’s say we want to predict house prices based on features like square footage, location, etc.\n",
    "\n",
    "    1️⃣ Train a simple model (Weak Model 1).\n",
    "    2️⃣ This model makes some errors (underpredicts for expensive houses).\n",
    "    3️⃣ Train a second model to correct these errors.\n",
    "    4️⃣ Combine the two models for better predictions.\n",
    "5️⃣ Repeat until we achieve good accuracy."
   ]
  },
  {
   "cell_type": "markdown",
   "metadata": {},
   "source": [
    "#### 1.4 Boosting vs. Other Ensemble Methods\n",
    "\n",
    "![Difference](images/boost.png)"
   ]
  },
  {
   "cell_type": "markdown",
   "metadata": {},
   "source": [
    "#### 1.5 Types of Boosting Algorithms\n",
    "\n",
    "    ✅ AdaBoost (Adaptive Boosting) – Adjusts sample weights.\n",
    "    ✅ Gradient Boosting (GBM) – Uses gradient descent.\n",
    "    ✅ XGBoost (eXtreme Gradient Boosting) – Optimized gradient boosting with regularization."
   ]
  },
  {
   "cell_type": "markdown",
   "metadata": {},
   "source": [
    "#### 2.1 What is Gradient Boosting?\n",
    "\n",
    "Gradient Boosting is a boosting technique that builds models sequentially, where each new model reduces the error of the previous one by minimizing a loss function using gradient descent.\n",
    "\n",
    "👉 Key Idea:\n",
    "    Instead of assigning weights like AdaBoost, Gradient Boosting fits a new model on the residuals (errors) of the previous model. It improves predictions by following the gradient of the loss function."
   ]
  },
  {
   "cell_type": "markdown",
   "metadata": {},
   "source": [
    "#### 2.2 Step-by-Step Intuition\n",
    "\n",
    "Let's break it down step by step with a simple regression example.\n",
    "\n",
    "**Step 1: Start with a weak model**\n",
    "\n",
    "We begin with a simple model, often a single decision tree (called a stump).\n",
    "This model predicts a constant value (e.g., the mean of all target values in regression).\n",
    "It makes errors, called residuals (actual - predicted).\n",
    "\n",
    "**Step 2: Compute Residuals**\n",
    "\n",
    "Now, we calculate the difference between actual values and predicted values.\n",
    "If our model predicted 200k for a house price, but the actual price is 250k, the residual is 50k.\n",
    "If the actual price was 180k, the residual is -20k.\n",
    "\n",
    "**Step 3: Fit a New Model on Residuals**\n",
    "\n",
    "The second model learns from the mistakes of the first model by predicting the residuals instead of the actual values.\n",
    "The goal of this model is to reduce the error made by the first model.\n",
    "\n",
    "**Step 4: Combine Models**\n",
    "\n",
    "We add the new model’s predictions to the previous model’s predictions.\n",
    "The updated predictions are now more accurate.\n",
    "\n",
    "**Step 5: Repeat Until Convergence**\n",
    "\n",
    "We keep repeating this process until we reach a stopping criterion (e.g., a small error or a set number of iterations).\n"
   ]
  },
  {
   "cell_type": "markdown",
   "metadata": {},
   "source": [
    "#### 2.3 Why Use Gradients?\n",
    "\n",
    "In gradient boosting, we optimize the model by minimizing the loss function using gradient descent.\n",
    "\n",
    "If loss is large, we take a step in the negative gradient direction to reduce it.\n",
    "\n",
    "This allows the algorithm to learn more efficiently."
   ]
  },
  {
   "cell_type": "markdown",
   "metadata": {},
   "source": [
    "#### Step 3: Implementing Gradient Boosting from Scratch in Python\n",
    "\n",
    "Now, let’s implement a simple version of gradient boosting from scratch using only NumPy and Python, without any libraries like XGBoost or Scikit-learn.\n",
    "\n",
    "We’ll start with a basic gradient boosting regressor for a simple regression problem."
   ]
  },
  {
   "cell_type": "markdown",
   "metadata": {},
   "source": [
    "#### 3.1 Plan for Our Implementation\n",
    "\n",
    "We will:\n",
    "\n",
    "1️⃣ Generate sample data (X, y).\n",
    "\n",
    "2️⃣ Initialize a base prediction (mean of y).\n",
    "\n",
    "3️⃣ Train multiple small decision trees (stumps) to predict residuals.\n",
    "\n",
    "4️⃣ Update predictions by adding each new tree’s predictions.\n",
    "\n",
    "5️⃣ Use a learning rate to control updates.\n",
    "\n",
    "6️⃣ Repeat the process for multiple iterations."
   ]
  },
  {
   "cell_type": "markdown",
   "metadata": {},
   "source": [
    "#### 3.2 Code Implementation"
   ]
  },
  {
   "cell_type": "code",
   "execution_count": 22,
   "metadata": {},
   "outputs": [
    {
     "data": {
      "image/png": "[encoded data removed]",
      "text/plain": [
       "<Figure size 640x480 with 1 Axes>"
      ]
     },
     "metadata": {},
     "output_type": "display_data"
    }
   ],
   "source": [
    "import numpy as np\n",
    "import matplotlib.pyplot as plt\n",
    "\n",
    "# Generate sample data for testing\n",
    "np.random.seed(42)\n",
    "X = np.sort(5 * np.random.rand(50, 1), axis=0)  # Feature matrix (50 samples, 1 feature)\n",
    "y = np.sin(X).ravel() + np.random.normal(0, 0.1, X.shape[0])  # Target variable with noise\n",
    "\n",
    "# Decision Stump (Weak Learner)\n",
    "class DecisionStump:\n",
    "    def __init__(self):\n",
    "        self.threshold = None\n",
    "        self.left_value = None\n",
    "        self.right_value = None\n",
    "\n",
    "    def fit(self, X, y):\n",
    "        \"\"\" Find the best split and fit the stump to minimize residuals \"\"\"\n",
    "        best_loss = float('inf')\n",
    "\n",
    "        for i in range(len(X)):\n",
    "            threshold = X[i, 0]  # Convert X to scalar threshold\n",
    "            left_mask = X.ravel() <= threshold\n",
    "            right_mask = X.ravel() > threshold\n",
    "\n",
    "            left_value = np.mean(y[left_mask]) if np.any(left_mask) else 0\n",
    "            right_value = np.mean(y[right_mask]) if np.any(right_mask) else 0\n",
    "\n",
    "            # Compute loss (Mean Squared Error)\n",
    "            loss = np.sum((y[left_mask] - left_value) ** 2) + np.sum((y[right_mask] - right_value) ** 2)\n",
    "\n",
    "            if loss < best_loss:\n",
    "                best_loss = loss\n",
    "                self.threshold = threshold\n",
    "                self.left_value = left_value\n",
    "                self.right_value = right_value\n",
    "\n",
    "    def predict(self, X):\n",
    "        \"\"\" Predict values based on the threshold \"\"\"\n",
    "        return np.where(X.ravel() <= self.threshold, self.left_value, self.right_value)\n",
    "\n",
    "# Gradient Boosting Regressor\n",
    "class GradientBoostingRegressor:\n",
    "    def __init__(self, n_estimators=50, learning_rate=0.1):\n",
    "        self.n_estimators = n_estimators  # Number of weak learners\n",
    "        self.learning_rate = learning_rate  # Step size\n",
    "        self.models = []  # Store trained trees\n",
    "        self.F = None  # Store predictions\n",
    "\n",
    "    def fit(self, X, y):\n",
    "        \"\"\" Train gradient boosting model \"\"\"\n",
    "        # Step 1: Initialize model with mean prediction\n",
    "        self.F = np.full(y.shape, np.mean(y))\n",
    "\n",
    "        for _ in range(self.n_estimators):\n",
    "            # Step 2: Compute residuals (Negative Gradient)\n",
    "            residuals = y - self.F\n",
    "\n",
    "            # Step 3: Train a weak learner (stump) on residuals\n",
    "            stump = DecisionStump()\n",
    "            stump.fit(X, residuals)\n",
    "            self.models.append(stump)\n",
    "\n",
    "            # Step 4: Update the model predictions\n",
    "            self.F += self.learning_rate * stump.predict(X).ravel()  # Ensure shape consistency\n",
    "\n",
    "    def predict(self, X):\n",
    "        \"\"\" Generate final predictions \"\"\"\n",
    "        predictions = np.full(X.shape[0], np.mean(y))  # Start with base prediction\n",
    "        for stump in self.models:\n",
    "            predictions += self.learning_rate * stump.predict(X).ravel()\n",
    "        return predictions\n",
    "\n",
    "# Train Gradient Boosting Model\n",
    "gbm = GradientBoostingRegressor(n_estimators=10, learning_rate=0.1)\n",
    "gbm.fit(X, y)\n",
    "\n",
    "# Make Predictions\n",
    "predictions = gbm.predict(X)\n",
    "\n",
    "# Plot Results\n",
    "plt.scatter(X, y, color=\"black\", label=\"Actual Data\")\n",
    "plt.plot(X, predictions, color=\"red\", label=\"GBM Predictions\")\n",
    "plt.legend()\n",
    "plt.show()\n"
   ]
  }
 ],
 "metadata": {
  "kernelspec": {
   "display_name": "fs",
   "language": "python",
   "name": "python3"
  },
  "language_info": {
   "codemirror_mode": {
    "name": "ipython",
    "version": 3
   },
   "file_extension": ".py",
   "mimetype": "text/x-python",
   "name": "python",
   "nbconvert_exporter": "python",
   "pygments_lexer": "ipython3",
   "version": "3.13.1"
  }
 },
 "nbformat": 4,
 "nbformat_minor": 2
}
