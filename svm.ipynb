{
 "cells": [
  {
   "cell_type": "markdown",
   "metadata": {},
   "source": [
    "# Support Vector Machine\n",
    "\n",
    "Support Vector Machines (SVM) is a powerful supervised machine learning algorithm used for both classification and regression tasks. It works by finding the optimal hyperplane that best separates the data points of different classes in a high-dimensional space. The hyperplane is chosen such that the margin (distance between the hyperplane and the nearest data points of each class) is maximized.\n",
    "\n",
    "### Key Concepts of SVM:\n",
    "\n",
    "1) Hyperplane: A decision boundary that separates the data points of different classes. For a 2D dataset, it is a line; for a 3D dataset, it is a plane.\n",
    "\n",
    "2) Support Vectors: The data points closest to the hyperplane. These points are critical in defining the hyperplane.\n",
    "\n",
    "3) Margin: The distance between the hyperplane and the nearest data points (support vectors). SVM aims to maximize this margin.\n",
    "\n",
    "4) Hinge Loss: A loss function used in SVM to penalize misclassified data points.\n",
    "\n",
    "5) Regularization: A parameter C that controls the trade-off between maximizing the margin and minimizing classification errors."
   ]
  },
  {
   "cell_type": "code",
   "execution_count": 1,
   "metadata": {},
   "outputs": [],
   "source": [
    "import numpy as np"
   ]
  },
  {
   "cell_type": "code",
   "execution_count": 2,
   "metadata": {},
   "outputs": [],
   "source": [
    "class SVM:\n",
    "    def __init__(self, lr=0.01, c=1.0, n_iters=1000):\n",
    "        self.lr=lr \n",
    "        self.c=c\n",
    "        self.n_iters=n_iters\n",
    "        self.w=None # weight\n",
    "        self.b=None # bias\n",
    "\n",
    "    def fit(self, X, y):\n",
    "        \"\"\"\n",
    "        Train the SVM model.\n",
    "        \n",
    "        Parameters:\n",
    "        X (numpy array): Feature matrix of shape (n_samples, n_features).\n",
    "        y (numpy array): Labels of shape (n_samples,). Labels should be -1 or 1.\n",
    "        \"\"\"\n",
    "        n_samples, n_features = X.shape\n",
    "\n",
    "        # initialize weights and bias\n",
    "        self.w = np.zeros(n_features)\n",
    "        self.b = 0\n",
    "\n",
    "        # Gradient descent optimization\n",
    "        for _ in range(self.n_iters):\n",
    "            for i in range(n_samples):\n",
    "                # compute the prediction \n",
    "                y_pred = np.dot(X[i], self.w) + self.b \n",
    "\n",
    "                # compute the hinge loss \n",
    "                if y[i] * y_pred >= 1:\n",
    "                    # No loss, update weights and bias without hinge loss contribution \n",
    "                    self.w -=self.lr * (2 * self.c * self.w)\n",
    "                else:\n",
    "                    # update the weights and bias with hinge loss contribution \n",
    "                    self.w -= self.lr * (2 * self.c * self.w - y[i] * X[i])\n",
    "                    self.b -= self.lr * (-y[i])\n",
    "\n",
    "    def predict(self, X):\n",
    "        \"\"\"\n",
    "        Predict the class labels for new instances.\n",
    "        \n",
    "        Parameters:\n",
    "        X (numpy array): Feature matrix of shape (n_samples, n_features).\n",
    "        \n",
    "        Returns:\n",
    "        numpy array: Predicted class labels (-1 or 1).\n",
    "        \"\"\"\n",
    "        y_pred = np.dot(X, self.w) + self.b \n",
    "        return np.sign(y_pred)               "
   ]
  },
  {
   "cell_type": "code",
   "execution_count": 4,
   "metadata": {},
   "outputs": [
    {
     "name": "stdout",
     "output_type": "stream",
     "text": [
      "Predictions: [-1.  1.]\n"
     ]
    }
   ],
   "source": [
    "# Example Dataset\n",
    "X = np.array([\n",
    "    [1, 2],\n",
    "    [2, 3],\n",
    "    [2, -1],\n",
    "    [3, 2],\n",
    "    [3, 3],\n",
    "    [4, 3]\n",
    "])\n",
    "y = np.array([-1, -1, -1, 1, 1, 1])\n",
    "\n",
    "# Initialize and train the SVM model\n",
    "svm = SVM(lr=0.01, c=1.0, n_iters=1000)\n",
    "svm.fit(X, y)\n",
    "\n",
    "# New instances to predict\n",
    "new_instances = np.array([\n",
    "    [1, 1],\n",
    "    [3, 4]\n",
    "])\n",
    "\n",
    "# Make predictions\n",
    "predictions = svm.predict(new_instances)\n",
    "print(f\"Predictions: {predictions}\")"
   ]
  }
 ],
 "metadata": {
  "kernelspec": {
   "display_name": "fs",
   "language": "python",
   "name": "python3"
  },
  "language_info": {
   "codemirror_mode": {
    "name": "ipython",
    "version": 3
   },
   "file_extension": ".py",
   "mimetype": "text/x-python",
   "name": "python",
   "nbconvert_exporter": "python",
   "pygments_lexer": "ipython3",
   "version": "3.13.1"
  }
 },
 "nbformat": 4,
 "nbformat_minor": 2
}
